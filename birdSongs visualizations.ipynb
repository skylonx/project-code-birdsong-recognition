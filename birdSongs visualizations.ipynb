{
 "cells": [
  {
   "cell_type": "code",
   "execution_count": null,
   "metadata": {
    "pycharm": {
     "name": "#%%\n"
    }
   },
   "outputs": [],
   "source": [
    "#-------------------------------------------------------------------------------------------------------------------------------------------------------#\n",
    "\"\"\"@author Shaela Khan, Updated 1st April,2022,  Updated : 7th Aug, Sunday\n",
    " Prelude1.ipynb  -> In testing phase\n",
    "# Bird Recognition from birdsongs using Deep learning -> We are working on building a model using Deep learning techniques to identify fire and smoke from images.\n",
    "# DataSource : - https://www.kaggle.com/datasets/rtatman/british-birdsong-dataset  (Aggregated from the original Xeno-Canto Dataset.)\n",
    "# Provided dataset has a directory with - songs\n",
    "#                                       - .csv file with labels\n",
    "#                                       -\n",
    "#  Dataset contains Image files from which, we create a train and test dataset for training purposes.\n",
    "# We then create a CNN model with possible usage of pre-trained models, that can identify the difference classes defined - this is a supervised learning\n",
    "# problem.\n",
    "# Input: train,test\n",
    "# Output : The file should have\n",
    "#          : Classify image from testing provided.\n",
    "##\n",
    "\"\"\"\n",
    "#-------------------------------------------------------------------------------------------------------------------------------------------------------#"
   ]
  },
  {
   "cell_type": "code",
   "execution_count": null,
   "metadata": {
    "pycharm": {
     "name": "#%%\n"
    }
   },
   "outputs": [],
   "source": [
    "from mpl_toolkits.mplot3d import Axes3D\n",
    "from sklearn.preprocessing import StandardScaler\n",
    "import matplotlib.pyplot as plt # plotting\n",
    "import numpy as np # linear algebra\n",
    "import os # accessing directory structure\n",
    "import pandas as pd #data processing, CSV file I/O (e.g. pd.read_csv)\n",
    "\n",
    "import soundfile as sf # audio data processing.\n",
    "import librosa\n",
    "import scipy.signal as signal\n",
    "import IPython.display\n",
    "import IPython.display as ipd    # play audio , display the widget to play audio etc..\n",
    "from IPython.display import display, Audio\n",
    "from ipywidgets import interactive\n",
    "%matplotlib inline\n",
    "\n",
    "\n",
    "\n",
    "\n",
    "\n",
    "print(\"Hello ! And welcome to the Road runner project !\")"
   ]
  },
  {
   "cell_type": "code",
   "execution_count": null,
   "metadata": {
    "pycharm": {
     "name": "#%%\n"
    }
   },
   "outputs": [],
   "source": [
    "print(os.listdir('./small Xeno-Canto'))\n",
    "\n",
    "# Distribution graphs (histogram/bar graph) of column data\n",
    "def plotPerColumnDistribution(df, nGraphShown, nGraphPerRow):\n",
    "    nunique = df.nunique()\n",
    "    df = df[[col for col in df if 1 < nunique[col] < 50]] # For displaying purposes, pick columns that have between 1 and 50 unique values\n",
    "    nRow, nCol = df.shape\n",
    "    columnNames = list(df)\n",
    "    nGraphRow = (nCol + nGraphPerRow - 1) / nGraphPerRow\n",
    "    plt.figure(num = None, figsize = (6 * nGraphPerRow, 8 * nGraphRow), dpi = 80, facecolor = 'w', edgecolor = 'k')\n",
    "    for i in range(min(nCol, nGraphShown)):\n",
    "        plt.subplot(nGraphRow, nGraphPerRow, i + 1)\n",
    "        columnDf = df.iloc[:, i]\n",
    "        if not np.issubdtype(type(columnDf.iloc[0]), np.number):\n",
    "            valueCounts = columnDf.value_counts()\n",
    "            valueCounts.plot.bar()\n",
    "        else:\n",
    "            columnDf.hist()\n",
    "        plt.ylabel('counts')\n",
    "        plt.xticks(rotation = 90)\n",
    "        plt.title(f'{columnNames[i]} (column {i})')\n",
    "    plt.tight_layout(pad = 1.0, w_pad = 1.0, h_pad = 1.0)\n",
    "    plt.show()\n",
    "\n",
    "\n",
    "# Correlation matrix\n",
    "def plotCorrelationMatrix(df, graphWidth):\n",
    "    filename = df.dataframeName\n",
    "    df = df.dropna('columns') # drop columns with NaN\n",
    "    df = df[[col for col in df if df[col].nunique() > 1]] # keep columns where there are more than 1 unique values\n",
    "    if df.shape[1] < 2:\n",
    "        print(f'No correlation plots shown: The number of non-NaN or constant columns ({df.shape[1]}) is less than 2')\n",
    "        return\n",
    "    corr = df.corr()\n",
    "    plt.figure(num=None, figsize=(graphWidth, graphWidth), dpi=80, facecolor='w', edgecolor='k')\n",
    "    corrMat = plt.matshow(corr, fignum = 1)\n",
    "    plt.xticks(range(len(corr.columns)), corr.columns, rotation=90)\n",
    "    plt.yticks(range(len(corr.columns)), corr.columns)\n",
    "    plt.gca().xaxis.tick_bottom()\n",
    "    plt.colorbar(corrMat)\n",
    "    plt.title(f'Correlation Matrix for {filename}', fontsize=15)\n",
    "    plt.show()\n",
    "\n",
    "\n",
    "    # Scatter and density plots\n",
    "def plotScatterMatrix(df, plotSize, textSize):\n",
    "    df = df.select_dtypes(include =[np.number]) # keep only numerical columns\n",
    "    # Remove rows and columns that would lead to df being singular\n",
    "    df = df.dropna('columns')\n",
    "    df = df[[col for col in df if df[col].nunique() > 1]] # keep columns where there are more than 1 unique values\n",
    "    columnNames = list(df)\n",
    "    if len(columnNames) > 10: # reduce the number of columns for matrix inversion of kernel density plots\n",
    "        columnNames = columnNames[:10]\n",
    "    df = df[columnNames]\n",
    "    ax = pd.plotting.scatter_matrix(df, alpha=0.75, figsize=[plotSize, plotSize], diagonal='kde')\n",
    "    corrs = df.corr().values\n",
    "\n",
    "    for i, j in zip(*plt.np.triu_indices_from(ax, k = 1)):\n",
    "        ax[i, j].annotate('Corr. coef = %.3f' % corrs[i, j], (0.8, 0.2), xycoords='axes fraction', ha='center', va='center', size=textSize)\n",
    "    plt.suptitle('Scatter and Density Plot')\n",
    "    plt.show()\n",
    "\n",
    "# Reading in data.\n",
    "nRowsRead = 1000 # specify 'None' if want to read whole file\n",
    "df1 = pd.read_csv('./small Xeno-Canto/birdsong_metadata.csv', delimiter=',', nrows = nRowsRead)\n",
    "df1.dataframeName = 'birdsong_metadata.csv'\n",
    "nRow, nCol = df1.shape\n",
    "print(f'There are {nRow} rows and {nCol} columns')\n",
    "print(df1.head())\n",
    "print(df1.info(verbose=True))"
   ]
  },
  {
   "cell_type": "code",
   "execution_count": null,
   "metadata": {
    "pycharm": {
     "name": "#%%\n"
    }
   },
   "outputs": [],
   "source": []
  },
  {
   "cell_type": "code",
   "execution_count": null,
   "metadata": {
    "pycharm": {
     "name": "#%%\n"
    }
   },
   "outputs": [],
   "source": [
    "df1.head(5)\n",
    "plotPerColumnDistribution(df1, 10, 5)"
   ]
  },
  {
   "cell_type": "code",
   "execution_count": null,
   "metadata": {
    "pycharm": {
     "name": "#%%\n"
    }
   },
   "outputs": [],
   "source": [
    "plotCorrelationMatrix(df1, 8)\n",
    "plotScatterMatrix(df1, 9, 10)"
   ]
  },
  {
   "cell_type": "code",
   "execution_count": null,
   "metadata": {
    "pycharm": {
     "name": "#%%\n"
    }
   },
   "outputs": [],
   "source": [
    "# Now, let's read in a sample birdsong file.\n",
    "\n",
    "data, samplerate = sf.read(\"./small Xeno-Canto/songs/songs/xc154285.flac\")\n",
    "freq, time, Sxx = signal.spectrogram(data, samplerate, scaling='spectrum')\n",
    "plt.pcolormesh(time, freq, Sxx, shading='auto',cmap='Purples')\n",
    "\n",
    "# add axis labels\n",
    "plt.ylabel('Frequency [Hz]')\n",
    "plt.xlabel('Time [sec]')"
   ]
  },
  {
   "cell_type": "code",
   "execution_count": null,
   "metadata": {
    "pycharm": {
     "name": "#%%\n"
    }
   },
   "outputs": [],
   "source": [
    "# The previous function didn't do much for the visual spectrum.\n",
    "# Hence we use a different function on here. Better visualization for bioacoustics.\n",
    "#Pxx, freqs, bins, im = plt.specgram(data, Fs=samplerate,cmap='coolwarm_r') # 'CMRmap_r' , 'gnuplot2_r', 'cool' was okay\n",
    "#ax = plt.axes() # testing #ax.set_facecolor('cyan')\n",
    "\n",
    "# add axis labels\n",
    "#plt.ylabel('Frequency [Hz]')\n",
    "#plt.xlabel('Time [sec]')\n",
    "#plt.show()"
   ]
  },
  {
   "cell_type": "code",
   "execution_count": null,
   "metadata": {
    "pycharm": {
     "name": "#%%\n"
    }
   },
   "outputs": [],
   "source": [
    "# Hence we use a different function on here. Better visualization for bioacoustics.\n",
    "Pxx, freqs, bins, im = plt.specgram(data, Fs=samplerate,cmap='viridis') # 'CMRmap_r' , 'gnuplot2_r'\n",
    "#ax = plt.axes() # testing #ax.set_facecolor('cyan')\n",
    "\n",
    "# add axis labels\n",
    "plt.ylabel('Frequency [Hz]')\n",
    "plt.xlabel('Time [sec]')\n",
    "plt.show()\n",
    "\n",
    "# different bird song visualization\n",
    "data2, samplerate = sf.read(\"./small Xeno-Canto/songs/songs/xc27080.flac\")\n",
    "Pxx, freqs, bins, im = plt.specgram(data2, Fs=samplerate, cmap='viridis') # 'CMRmap_r' , 'gnuplot2_r'\n",
    "\n",
    "\n",
    "# add axis labels\n",
    "plt.ylabel('Frequency [Hz]')\n",
    "plt.xlabel('Time [sec]')\n",
    "plt.show()"
   ]
  },
  {
   "cell_type": "code",
   "execution_count": null,
   "metadata": {
    "pycharm": {
     "name": "#%%\n"
    }
   },
   "outputs": [],
   "source": [
    "# Starting pre-processing , here we go\n",
    "\n",
    "audio_data = \"./dataset/northern cardinal/XC11502.wav\"\n",
    "x , sr = librosa.load(audio_data)\n",
    "print(type(x), type(sr))#<class 'numpy.ndarray'> <class 'int'>print(x.shape, sr)#(94316,) 22050\n",
    "print(x.shape)\n",
    "\n",
    "#This returns an audio time series as a numpy array with a default sampling rate(sr) of 22KHZ mono. We can change this behavior by resampling at 44.1KHz.\n",
    "sound = librosa.load(audio_data, sr=44100)\n",
    "# or to disable resampling.\n",
    "# librosa.load('./small Xeno-Canto/songs/songs/xc29230.flac', sr=None)\n",
    "# he sample rate is the number of samples of audio carried per second, measured in Hz or kHz.\n",
    "#Playing Audio: Using,IPython.display.Audio you can play the audio in your jupyter notebook.\n",
    "\n",
    "print(\"Play my audio damn it !!! \")\n",
    "import IPython\n",
    "from IPython.display import Audio\n",
    "import librosa.display\n",
    "from scipy.io.wavfile import write\n",
    "\n",
    "#cwd = './small Xeno-Canto/songs/xc27080.flac'\n",
    "#Audio(cwd)\n",
    "#Audio(\"./voices/Home By The Sea.mp3\")"
   ]
  },
  {
   "cell_type": "code",
   "execution_count": null,
   "metadata": {
    "pycharm": {
     "name": "#%%\n"
    }
   },
   "outputs": [],
   "source": [
    "#Visualizing Audio:\n",
    "#We can plot the audio array using librosa.display.waveplot:\n",
    "%matplotlib inline\n",
    "import librosa.display\n",
    "plt.figure(figsize=(14, 5))\n",
    "librosa.display.waveshow(x, sr=sr)"
   ]
  },
  {
   "cell_type": "code",
   "execution_count": null,
   "metadata": {
    "pycharm": {
     "name": "#%%\n"
    }
   },
   "outputs": [],
   "source": [
    "\"\"\"import pygame\n",
    "pygame.init()\n",
    "pygame.mixer.pre_init(44100, 16, 2, 4096) # Frequency, channel size, channels, buffersize\n",
    "pygame.mixer.init()\n",
    "\n",
    "song = pygame.mixer.Sound('./small Xeno-Canto/songs/songs/xc154285.flac')\n",
    "song.play()\n",
    "\"\"\"\n",
    "\"\"\"\n",
    "    Playing with the pygame library works - however - it doesnt allow use of a player with controls.\n",
    "\n",
    "\"\"\""
   ]
  },
  {
   "cell_type": "code",
   "execution_count": null,
   "metadata": {
    "pycharm": {
     "name": "#%%\n"
    }
   },
   "outputs": [],
   "source": [
    "X = librosa.stft(x)\n",
    "Xdb = librosa.amplitude_to_db(abs(X))\n",
    "plt.figure(figsize=(14, 5))\n",
    "librosa.display.specshow(Xdb, sr=sr, x_axis='time', y_axis='hz')\n",
    "plt.colorbar()"
   ]
  },
  {
   "cell_type": "code",
   "execution_count": null,
   "metadata": {
    "pycharm": {
     "name": "#%%\n"
    }
   },
   "outputs": [],
   "source": [
    "librosa.display.specshow(Xdb, sr=sr, x_axis='time', y_axis='log')\n",
    "plt.colorbar()                                                    # Based on the spetrogram above, we see most action is taaking place at the bottom. Hence\n",
    "                                                                  # We take a log of the y- axis."
   ]
  },
  {
   "cell_type": "code",
   "execution_count": null,
   "outputs": [],
   "source": [
    "\"\"\" This part is not required or necessary at this point.\"\"\"\n",
    "sr = 22050 # sample rate\n",
    "T = 5.0    # seconds\n",
    "t = np.linspace(0, T, int(T*sr), endpoint=False) # time variable\n",
    "x = 0.5*np.sin(2*np.pi*220*t)# pure sine wave at 220 Hz\n",
    "#Playing the audio\n",
    "ipd.Audio(x, rate=sr) # load a NumPy array\n",
    "#Saving the audio\n",
    "#librosa.output.write_wav('tone_220.wav', x, sr)  , Doesn't work in the new version of librosa\n",
    "# import soundfile as sf\n",
    "#sf.write('tone2.wav',samplerate=sr,data=x)\n",
    "# Audio('tone2.wav')\n",
    "\"\"\"This part is not required or necessary at this point.\"\"\"\n"
   ],
   "metadata": {
    "collapsed": false,
    "pycharm": {
     "name": "#%%\n"
    }
   }
  },
  {
   "cell_type": "code",
   "execution_count": null,
   "outputs": [],
   "source": [
    "import sklearn\n",
    "from sklearn.preprocessing import MinMaxScaler\n",
    "\"\"\"\n",
    "scaler = MinMaxScaler()\n",
    "spectral_centroids = librosa.feature.spectral_centroid(x, sr=sr)[0]\n",
    "spectral_centroids.shape(775,)\n",
    "# Computing the time variable for visualization\n",
    "plt.figure(figsize=(12, 4))\n",
    "frames = range(len(spectral_centroids))\n",
    "t = librosa.frames_to_time(frames)\n",
    "\n",
    "\n",
    "# Normalising the spectral centroid for visualisation\n",
    "\n",
    "def normalize(x, axis=0):\n",
    "    return scaler.fit(x, axis=axis)\n",
    "#Plotting the Spectral Centroid along the waveform\n",
    "librosa.display.waveshow(x, sr=sr, alpha=0.4)\n",
    "plt.plot(t, normalize(spectral_centroids), color='b')\n",
    " \"\"\"\n"
   ],
   "metadata": {
    "collapsed": false,
    "pycharm": {
     "name": "#%%\n"
    }
   }
  },
  {
   "cell_type": "code",
   "execution_count": null,
   "outputs": [],
   "source": [
    "chromagram = librosa.feature.chroma_stft(x, sr=sr)\n",
    "plt.figure(figsize=(15, 5))\n",
    "librosa.display.specshow(chromagram, x_axis='time', y_axis='chroma',hop_length=10, cmap='coolwarm')"
   ],
   "metadata": {
    "collapsed": false,
    "pycharm": {
     "name": "#%%\n"
    }
   }
  },
  {
   "cell_type": "code",
   "execution_count": null,
   "outputs": [],
   "source": [
    "mfccs = librosa.feature.mfcc(x, sr, n_mfcc=40)\n",
    "print(mfccs.shape)\n",
    "(20, 97)\n",
    "#Displaying  the MFCCs:\n",
    "plt.figure(figsize=(15, 7))\n",
    "librosa.display.specshow(mfccs, sr=sr, x_axis='time')\n",
    "\n",
    "# Override\n",
    "S = librosa.feature.melspectrogram(y=x, sr=sr, n_mels=128,fmax=8000)\n",
    "fig, ax = plt.subplots(nrows=2, sharex=True)\n",
    "img = librosa.display.specshow(librosa.power_to_db(S, ref=np.max), x_axis='time', y_axis='mel', fmax=8000,ax= ax[0])\n",
    "fig.colorbar(img, ax=[ax[0]])\n",
    "ax[0].set(title='Mel spectrogram')\n",
    "ax[0].label_outer()\n",
    "img = librosa.display.specshow(mfccs, x_axis='time', ax=ax[1])\n",
    "fig.colorbar(img, ax=[ax[1]])\n",
    "ax[1].set(title='MFCC')\n",
    "# Just a theory - but these images can also be used as input to cnn models , yes? Because different feature tactics."
   ],
   "metadata": {
    "collapsed": false,
    "pycharm": {
     "name": "#%%\n"
    }
   }
  },
  {
   "cell_type": "code",
   "execution_count": null,
   "outputs": [],
   "source": [
    "cmap = plt.get_cmap('inferno')\n",
    "plt.figure(figsize=(8,8))\n",
    "\n",
    "\n",
    "songname = './dataset/northern cardinal/XC11502.wav'  # Because you need the whole path.\n",
    "y, sr = librosa.load(songname, mono=True, duration=5)\n",
    "X = librosa.stft(y)\n",
    "Xdb = librosa.amplitude_to_db(abs(X))\n",
    "plt.specgram(Xdb, NFFT=2048, Fs=2, Fc=0, noverlap=128, cmap=cmap, sides='default', mode='default', scale='dB')\n",
    "plt.axis('off')\n",
    "        #base = os.path.splitext(filename)[0]\n",
    "        # os.rename(my_file, base + '.bin')\n",
    "        #plt.savefig('img_data-Voices/'+base+'.png')\n",
    "plt.show()\n",
    "#plt.clf()\n",
    "\n"
   ],
   "metadata": {
    "collapsed": false,
    "pycharm": {
     "name": "#%%\n"
    }
   }
  }
 ],
 "metadata": {
  "kernelspec": {
   "display_name": "Python 3",
   "language": "python",
   "name": "python3"
  },
  "language_info": {
   "codemirror_mode": {
    "name": "ipython",
    "version": 3
   },
   "file_extension": ".py",
   "mimetype": "text/x-python",
   "name": "python",
   "nbconvert_exporter": "python",
   "pygments_lexer": "ipython3",
   "version": "3.7.9"
  }
 },
 "nbformat": 4,
 "nbformat_minor": 1
}