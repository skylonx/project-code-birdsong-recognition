{
 "cells": [
  {
   "cell_type": "code",
   "execution_count": 3,
   "outputs": [
    {
     "data": {
      "text/plain": "'\\n    @author Shaela Khan, Created : 23rd August, Tuesday, Last Updated 24th August, Wednesday 2022.\\n\\n#  birdy.ipynb  -> Experimentation\\n#  Bird Recognition from birdsongs using Deep learning ->s\\n#  DataSource : - https://www.kaggle.com/datasets/rtatman/british-birdsong-dataset  (Aggregated from the original Xeno-Canto Dataset.)\\n#  Provided dataset has a directory with - ./small Xeno-Canto/songs --> Original audio dataset.\\n#                                        -  ./small Xeno-Canto/birdsong_metadata.csv  --> Original Dataset with labels.\\n                                         -   ./img_data --> audio files converted into image files --> contains spectrographs of audio data.\\n#\\n#\\n#  We then create a CNN model with possible usage of pre-trained models, that can identify the difference classes defined - this is a supervised learning\\n#  problem.\\n#  Input: birdsong_metadata.csv + songs\\n#  Output : T\\n'"
     },
     "execution_count": 3,
     "metadata": {},
     "output_type": "execute_result"
    }
   ],
   "source": [
    "#******************************************************************************************************************************************************#\n",
    "\"\"\"\n",
    "    @author Shaela Khan, Created : 23rd August, Tuesday, Last Updated 24th August, Wednesday 2022.\n",
    "\n",
    "#  birdy.ipynb  -> Experimentation\n",
    "#  Bird Recognition from birdsongs using Deep learning ->s\n",
    "#  DataSource : - https://www.kaggle.com/datasets/rtatman/british-birdsong-dataset  (Aggregated from the original Xeno-Canto Dataset.)\n",
    "#  Provided dataset has a directory with - ./small Xeno-Canto/songs --> Original audio dataset.\n",
    "#                                        -  ./small Xeno-Canto/birdsong_metadata.csv  --> Original Dataset with labels.\n",
    "                                         -   ./img_data --> audio files converted into image files --> contains spectrographs of audio data.\n",
    "#\n",
    "#\n",
    "#  We then create a CNN model with possible usage of pre-trained models, that can identify the difference classes defined - this is a supervised learning\n",
    "#  problem.\n",
    "#  Input: birdsong_metadata.csv + songs\n",
    "#  Output : T\n",
    "\"\"\"\n",
    "#*******************************************************************************************************************************************************#\n"
   ],
   "metadata": {
    "collapsed": false,
    "pycharm": {
     "name": "#%%\n"
    }
   }
  },
  {
   "cell_type": "code",
   "execution_count": 4,
   "outputs": [
    {
     "name": "stdout",
     "output_type": "stream",
     "text": [
      "Hello Experiment.\n"
     ]
    }
   ],
   "source": [
    "import numpy as np\n",
    "import matplotlib.pyplot as plt\n",
    "import pandas as pd\n",
    "from librosa import core, onset, feature, display\n",
    "import soundfile as sf\n",
    "import umap\n",
    "from IPython.display import Audio\n",
    "import sklearn\n",
    "import warnings\n",
    "warnings.filterwarnings('ignore')\n",
    "\n",
    "print(\"Hello Experiment.\")"
   ],
   "metadata": {
    "collapsed": false,
    "pycharm": {
     "name": "#%%\n"
    }
   }
  },
  {
   "cell_type": "code",
   "execution_count": null,
   "outputs": [],
   "source": [
    "df = pd.read_csv(\"./small Xeno-Canto/birdsong_metadata.csv\")\n",
    "df.head()"
   ],
   "metadata": {
    "collapsed": false,
    "pycharm": {
     "name": "#%%\n",
     "is_executing": true
    }
   }
  },
  {
   "cell_type": "code",
   "execution_count": 6,
   "outputs": [],
   "source": [
    "def load_audio(file_id1):\n",
    "    data1, samplerate = sf.read(\"./small Xeno-Canto/songs/songs/xc\"+str(file_id1)+\".flac\")\n",
    "    s = len(data1)/samplerate\n",
    "    sg1 = feature.melspectrogram(data1, sr=samplerate, hop_length=512)\n",
    "    mme = sg1.mean(axis=0)\n",
    "\n",
    "    # Take mean amplitude M from frame with highest energy\n",
    "    centerpoint = np.argmax(mme)\n",
    "    M = sg1[:,centerpoint].mean()\n",
    "\n",
    "    # Filter out all frames with energy less than 5% of M\n",
    "    mask1 = sg1.mean(axis=0)>=M/20\n",
    "\n",
    "    audio_mask1 = np.zeros(len(data1), dtype=bool)\n",
    "    for i in range(0,len(mask1)):\n",
    "        audio_mask1[i*512:] = mask1[i]\n",
    "\n",
    "    return sg1, mask1, data1, audio_mask1, samplerate\n",
    "\n",
    "\n",
    "\n",
    "df['length'] = np.zeros(len(df))\n",
    "waves = {}\n",
    "\n",
    "for file_id in df['file_id']:\n",
    "    sg, mask, data, audio_mask, sample_rate = load_audio(file_id)\n",
    "    waves[file_id] = data[audio_mask]\n",
    "    df.loc[df['file_id'] == file_id,'length'] = len(data[audio_mask])\n",
    "    #print(len(data[audio_mask])/sample_rate)"
   ],
   "metadata": {
    "collapsed": false,
    "pycharm": {
     "name": "#%%\n"
    }
   }
  },
  {
   "cell_type": "code",
   "execution_count": null,
   "outputs": [],
   "source": [
    "#print(df.length)\n",
    "df['length'].hist()\n",
    "plt.show()\n",
    "#df['length'].describe()\n",
    "#print(sg)\n",
    "#df.head()\n",
    "\n",
    "# We set window to 6.144000e+03 frames as it's the minimum length among our audio files\n",
    "df['windows'] = df['length'].apply(lambda x: int(x/6.144000e+03))\n",
    "df.head()\n",
    "\n",
    "# To relax the problem we'll consider the genus as the label instead of the species\n",
    "# We use 23 windows per genus to have a balanced data set\n",
    "\n",
    "n_windows = df.groupby('species')['windows'].sum().min()\n",
    "n_windows"
   ],
   "metadata": {
    "collapsed": false,
    "pycharm": {
     "name": "#%%\n",
     "is_executing": true
    }
   }
  },
  {
   "cell_type": "code",
   "execution_count": 8,
   "outputs": [],
   "source": [
    "# First we create all windows for each file and partition them by species\n",
    "windows = {}\n",
    "\n",
    "for file_id in df['file_id']:\n",
    "    wave = waves[file_id]\n",
    "    species = df[df['file_id']==file_id]['genus'].values[0] + \"_\" + df[df['file_id']==file_id]['species'].values[0]\n",
    "    if species not in windows:\n",
    "        windows[species] = []\n",
    "    for i in range(0, int(len(wave)/6.144000e+03)):\n",
    "        windows[species].append(wave[i:int(i+6.144000e+03)])\n"
   ],
   "metadata": {
    "collapsed": false,
    "pycharm": {
     "name": "#%%\n"
    }
   }
  },
  {
   "cell_type": "code",
   "execution_count": 9,
   "outputs": [],
   "source": [
    "# We randomly pick 20 windows for each species\n",
    "# Save other samples for testing\n",
    "windows_fixed = {}\n",
    "windows_fixed_test = {}\n",
    "\n",
    "for species in windows.keys():\n",
    "    windows_fixed[species] = []\n",
    "    windows_fixed_test[species] = []\n",
    "    ws = windows[species]\n",
    "    index = np.random.choice(len(ws), n_windows, replace=False)\n",
    "    for i in range(0, len(ws)):\n",
    "        if i in index:\n",
    "            windows_fixed[species].append(ws[i])\n",
    "        else:\n",
    "            windows_fixed_test[species].append(ws[i])"
   ],
   "metadata": {
    "collapsed": false,
    "pycharm": {
     "name": "#%%\n"
    }
   }
  },
  {
   "cell_type": "code",
   "execution_count": 10,
   "outputs": [
    {
     "data": {
      "text/plain": "   species     genus  spec_centr_0  chromogram_0_0  chromogram_1_0  \\\n0  flammea  Acanthis   2443.446204             1.0        0.620579   \n1  flammea  Acanthis   2441.397755             1.0        0.620250   \n2  flammea  Acanthis   2440.042293             1.0        0.622055   \n3  flammea  Acanthis   2439.988776             1.0        0.621762   \n4  flammea  Acanthis   2459.276398             1.0        0.621538   \n\n   chromogram_2_0  chromogram_3_0  chromogram_4_0  chromogram_5_0  \\\n0        0.318997        0.151927        0.094071        0.094180   \n1        0.318581        0.151816        0.094349        0.094949   \n2        0.320582        0.152584        0.094716        0.095581   \n3        0.320039        0.152444        0.095059        0.096328   \n4        0.319594        0.152282        0.095580        0.097411   \n\n   chromogram_6_0  ...  chromogram_2_12  chromogram_3_12  chromogram_4_12  \\\n0        0.068650  ...         0.555383         0.392124         0.218584   \n1        0.069267  ...         0.553780         0.390659         0.218012   \n2        0.070223  ...         0.553241         0.390372         0.218837   \n3        0.070788  ...         0.551704         0.388921         0.217786   \n4        0.071672  ...         0.549077         0.386734         0.216927   \n\n   chromogram_5_12  chromogram_6_12  chromogram_7_12  chromogram_8_12  \\\n0         0.100603         0.040804         0.028532         0.067722   \n1         0.100694         0.040641         0.028188         0.067299   \n2         0.101043         0.040824         0.027893         0.066034   \n3         0.100475         0.040764         0.027681         0.065430   \n4         0.099844         0.040137         0.027416         0.064454   \n\n   chromogram_9_12  chromogram_10_12  chromogram_11_12  \n0         0.145757          0.509797               1.0  \n1         0.145260          0.510484               1.0  \n2         0.143134          0.505659               1.0  \n3         0.142715          0.506232               1.0  \n4         0.142324          0.507135               1.0  \n\n[5 rows x 171 columns]",
      "text/html": "<div>\n<style scoped>\n    .dataframe tbody tr th:only-of-type {\n        vertical-align: middle;\n    }\n\n    .dataframe tbody tr th {\n        vertical-align: top;\n    }\n\n    .dataframe thead th {\n        text-align: right;\n    }\n</style>\n<table border=\"1\" class=\"dataframe\">\n  <thead>\n    <tr style=\"text-align: right;\">\n      <th></th>\n      <th>species</th>\n      <th>genus</th>\n      <th>spec_centr_0</th>\n      <th>chromogram_0_0</th>\n      <th>chromogram_1_0</th>\n      <th>chromogram_2_0</th>\n      <th>chromogram_3_0</th>\n      <th>chromogram_4_0</th>\n      <th>chromogram_5_0</th>\n      <th>chromogram_6_0</th>\n      <th>...</th>\n      <th>chromogram_2_12</th>\n      <th>chromogram_3_12</th>\n      <th>chromogram_4_12</th>\n      <th>chromogram_5_12</th>\n      <th>chromogram_6_12</th>\n      <th>chromogram_7_12</th>\n      <th>chromogram_8_12</th>\n      <th>chromogram_9_12</th>\n      <th>chromogram_10_12</th>\n      <th>chromogram_11_12</th>\n    </tr>\n  </thead>\n  <tbody>\n    <tr>\n      <th>0</th>\n      <td>flammea</td>\n      <td>Acanthis</td>\n      <td>2443.446204</td>\n      <td>1.0</td>\n      <td>0.620579</td>\n      <td>0.318997</td>\n      <td>0.151927</td>\n      <td>0.094071</td>\n      <td>0.094180</td>\n      <td>0.068650</td>\n      <td>...</td>\n      <td>0.555383</td>\n      <td>0.392124</td>\n      <td>0.218584</td>\n      <td>0.100603</td>\n      <td>0.040804</td>\n      <td>0.028532</td>\n      <td>0.067722</td>\n      <td>0.145757</td>\n      <td>0.509797</td>\n      <td>1.0</td>\n    </tr>\n    <tr>\n      <th>1</th>\n      <td>flammea</td>\n      <td>Acanthis</td>\n      <td>2441.397755</td>\n      <td>1.0</td>\n      <td>0.620250</td>\n      <td>0.318581</td>\n      <td>0.151816</td>\n      <td>0.094349</td>\n      <td>0.094949</td>\n      <td>0.069267</td>\n      <td>...</td>\n      <td>0.553780</td>\n      <td>0.390659</td>\n      <td>0.218012</td>\n      <td>0.100694</td>\n      <td>0.040641</td>\n      <td>0.028188</td>\n      <td>0.067299</td>\n      <td>0.145260</td>\n      <td>0.510484</td>\n      <td>1.0</td>\n    </tr>\n    <tr>\n      <th>2</th>\n      <td>flammea</td>\n      <td>Acanthis</td>\n      <td>2440.042293</td>\n      <td>1.0</td>\n      <td>0.622055</td>\n      <td>0.320582</td>\n      <td>0.152584</td>\n      <td>0.094716</td>\n      <td>0.095581</td>\n      <td>0.070223</td>\n      <td>...</td>\n      <td>0.553241</td>\n      <td>0.390372</td>\n      <td>0.218837</td>\n      <td>0.101043</td>\n      <td>0.040824</td>\n      <td>0.027893</td>\n      <td>0.066034</td>\n      <td>0.143134</td>\n      <td>0.505659</td>\n      <td>1.0</td>\n    </tr>\n    <tr>\n      <th>3</th>\n      <td>flammea</td>\n      <td>Acanthis</td>\n      <td>2439.988776</td>\n      <td>1.0</td>\n      <td>0.621762</td>\n      <td>0.320039</td>\n      <td>0.152444</td>\n      <td>0.095059</td>\n      <td>0.096328</td>\n      <td>0.070788</td>\n      <td>...</td>\n      <td>0.551704</td>\n      <td>0.388921</td>\n      <td>0.217786</td>\n      <td>0.100475</td>\n      <td>0.040764</td>\n      <td>0.027681</td>\n      <td>0.065430</td>\n      <td>0.142715</td>\n      <td>0.506232</td>\n      <td>1.0</td>\n    </tr>\n    <tr>\n      <th>4</th>\n      <td>flammea</td>\n      <td>Acanthis</td>\n      <td>2459.276398</td>\n      <td>1.0</td>\n      <td>0.621538</td>\n      <td>0.319594</td>\n      <td>0.152282</td>\n      <td>0.095580</td>\n      <td>0.097411</td>\n      <td>0.071672</td>\n      <td>...</td>\n      <td>0.549077</td>\n      <td>0.386734</td>\n      <td>0.216927</td>\n      <td>0.099844</td>\n      <td>0.040137</td>\n      <td>0.027416</td>\n      <td>0.064454</td>\n      <td>0.142324</td>\n      <td>0.507135</td>\n      <td>1.0</td>\n    </tr>\n  </tbody>\n</table>\n<p>5 rows × 171 columns</p>\n</div>"
     },
     "execution_count": 10,
     "metadata": {},
     "output_type": "execute_result"
    }
   ],
   "source": [
    "# Extract Features from Window\n",
    "new_dataset = pd.DataFrame()\n",
    "\n",
    "for species in windows_fixed.keys():\n",
    "    for i in range(0,n_windows):\n",
    "        data_point = {'species':species.split('_')[1], 'genus':species.split('_')[0]}\n",
    "        spec_centroid = feature.spectral_centroid(windows_fixed[species][i])[0]\n",
    "        chroma = feature.chroma_stft(windows_fixed[species][i], sample_rate)\n",
    "        for j in range(0,13):\n",
    "            data_point['spec_centr_'+str(j)] = spec_centroid[j]\n",
    "            for k in range(0,12):\n",
    "                data_point['chromogram_'+str(k)+\"_\"+str(j)] = chroma[k,j]\n",
    "        new_dataset = new_dataset.append(data_point,ignore_index=True)\n",
    "\n",
    "new_dataset.head()"
   ],
   "metadata": {
    "collapsed": false,
    "pycharm": {
     "name": "#%%\n"
    }
   }
  },
  {
   "cell_type": "code",
   "execution_count": 11,
   "outputs": [
    {
     "data": {
      "text/plain": "   species     genus  spec_centr_0  chromogram_0_0  chromogram_1_0  \\\n0  flammea  Acanthis   2442.089677        0.645542        0.349450   \n1  flammea  Acanthis   2439.945547        0.645315        0.349250   \n2  flammea  Acanthis   2440.628987        1.000000        0.620424   \n3  flammea  Acanthis   2443.366373        1.000000        0.620077   \n4  flammea  Acanthis   2444.563339        1.000000        0.621917   \n\n   chromogram_2_0  chromogram_3_0  chromogram_4_0  chromogram_5_0  \\\n0        0.166184        0.096049        0.093169        0.073407   \n1        0.166102        0.096156        0.093512        0.073729   \n2        0.318773        0.151869        0.094209        0.094567   \n3        0.318395        0.151747        0.094501        0.095324   \n4        0.320325        0.152506        0.094887        0.095952   \n\n   chromogram_6_0  ...  chromogram_2_12  chromogram_3_12  chromogram_4_12  \\\n0        0.034041  ...         0.412498         0.243003         0.112923   \n1        0.034165  ...         0.411641         0.242523         0.112759   \n2        0.068958  ...         0.554592         0.391417         0.218344   \n3        0.069563  ...         0.552913         0.389868         0.217546   \n4        0.070502  ...         0.552449         0.389643         0.218332   \n\n   chromogram_5_12  chromogram_6_12  chromogram_7_12  chromogram_8_12  \\\n0         0.046037         0.028564         0.061722         0.129256   \n1         0.045962         0.028441         0.061449         0.128977   \n2         0.100698         0.040755         0.028357         0.067543   \n3         0.100458         0.040529         0.028066         0.066965   \n4         0.100761         0.040778         0.027789         0.065724   \n\n   chromogram_9_12  chromogram_10_12  chromogram_11_12  \n0         0.452654          1.000000          0.714536  \n1         0.452955          1.000000          0.714293  \n2         0.145454          0.510272          1.000000  \n3         0.145106          0.510679          1.000000  \n4         0.142933          0.505951          1.000000  \n\n[5 rows x 171 columns]",
      "text/html": "<div>\n<style scoped>\n    .dataframe tbody tr th:only-of-type {\n        vertical-align: middle;\n    }\n\n    .dataframe tbody tr th {\n        vertical-align: top;\n    }\n\n    .dataframe thead th {\n        text-align: right;\n    }\n</style>\n<table border=\"1\" class=\"dataframe\">\n  <thead>\n    <tr style=\"text-align: right;\">\n      <th></th>\n      <th>species</th>\n      <th>genus</th>\n      <th>spec_centr_0</th>\n      <th>chromogram_0_0</th>\n      <th>chromogram_1_0</th>\n      <th>chromogram_2_0</th>\n      <th>chromogram_3_0</th>\n      <th>chromogram_4_0</th>\n      <th>chromogram_5_0</th>\n      <th>chromogram_6_0</th>\n      <th>...</th>\n      <th>chromogram_2_12</th>\n      <th>chromogram_3_12</th>\n      <th>chromogram_4_12</th>\n      <th>chromogram_5_12</th>\n      <th>chromogram_6_12</th>\n      <th>chromogram_7_12</th>\n      <th>chromogram_8_12</th>\n      <th>chromogram_9_12</th>\n      <th>chromogram_10_12</th>\n      <th>chromogram_11_12</th>\n    </tr>\n  </thead>\n  <tbody>\n    <tr>\n      <th>0</th>\n      <td>flammea</td>\n      <td>Acanthis</td>\n      <td>2442.089677</td>\n      <td>0.645542</td>\n      <td>0.349450</td>\n      <td>0.166184</td>\n      <td>0.096049</td>\n      <td>0.093169</td>\n      <td>0.073407</td>\n      <td>0.034041</td>\n      <td>...</td>\n      <td>0.412498</td>\n      <td>0.243003</td>\n      <td>0.112923</td>\n      <td>0.046037</td>\n      <td>0.028564</td>\n      <td>0.061722</td>\n      <td>0.129256</td>\n      <td>0.452654</td>\n      <td>1.000000</td>\n      <td>0.714536</td>\n    </tr>\n    <tr>\n      <th>1</th>\n      <td>flammea</td>\n      <td>Acanthis</td>\n      <td>2439.945547</td>\n      <td>0.645315</td>\n      <td>0.349250</td>\n      <td>0.166102</td>\n      <td>0.096156</td>\n      <td>0.093512</td>\n      <td>0.073729</td>\n      <td>0.034165</td>\n      <td>...</td>\n      <td>0.411641</td>\n      <td>0.242523</td>\n      <td>0.112759</td>\n      <td>0.045962</td>\n      <td>0.028441</td>\n      <td>0.061449</td>\n      <td>0.128977</td>\n      <td>0.452955</td>\n      <td>1.000000</td>\n      <td>0.714293</td>\n    </tr>\n    <tr>\n      <th>2</th>\n      <td>flammea</td>\n      <td>Acanthis</td>\n      <td>2440.628987</td>\n      <td>1.000000</td>\n      <td>0.620424</td>\n      <td>0.318773</td>\n      <td>0.151869</td>\n      <td>0.094209</td>\n      <td>0.094567</td>\n      <td>0.068958</td>\n      <td>...</td>\n      <td>0.554592</td>\n      <td>0.391417</td>\n      <td>0.218344</td>\n      <td>0.100698</td>\n      <td>0.040755</td>\n      <td>0.028357</td>\n      <td>0.067543</td>\n      <td>0.145454</td>\n      <td>0.510272</td>\n      <td>1.000000</td>\n    </tr>\n    <tr>\n      <th>3</th>\n      <td>flammea</td>\n      <td>Acanthis</td>\n      <td>2443.366373</td>\n      <td>1.000000</td>\n      <td>0.620077</td>\n      <td>0.318395</td>\n      <td>0.151747</td>\n      <td>0.094501</td>\n      <td>0.095324</td>\n      <td>0.069563</td>\n      <td>...</td>\n      <td>0.552913</td>\n      <td>0.389868</td>\n      <td>0.217546</td>\n      <td>0.100458</td>\n      <td>0.040529</td>\n      <td>0.028066</td>\n      <td>0.066965</td>\n      <td>0.145106</td>\n      <td>0.510679</td>\n      <td>1.000000</td>\n    </tr>\n    <tr>\n      <th>4</th>\n      <td>flammea</td>\n      <td>Acanthis</td>\n      <td>2444.563339</td>\n      <td>1.000000</td>\n      <td>0.621917</td>\n      <td>0.320325</td>\n      <td>0.152506</td>\n      <td>0.094887</td>\n      <td>0.095952</td>\n      <td>0.070502</td>\n      <td>...</td>\n      <td>0.552449</td>\n      <td>0.389643</td>\n      <td>0.218332</td>\n      <td>0.100761</td>\n      <td>0.040778</td>\n      <td>0.027789</td>\n      <td>0.065724</td>\n      <td>0.142933</td>\n      <td>0.505951</td>\n      <td>1.000000</td>\n    </tr>\n  </tbody>\n</table>\n<p>5 rows × 171 columns</p>\n</div>"
     },
     "execution_count": 11,
     "metadata": {},
     "output_type": "execute_result"
    }
   ],
   "source": [
    "#Extract Features from Window for test\n",
    "new_dataset_test = pd.DataFrame()\n",
    "\n",
    "for species in windows_fixed_test.keys():\n",
    "    for i in range(0,len(windows_fixed_test[species])):\n",
    "        data_point = {'species':species.split('_')[1], 'genus':species.split('_')[0]}\n",
    "        spec_centroid = feature.spectral_centroid(windows_fixed_test[species][i])[0]\n",
    "        chroma = feature.chroma_stft(windows_fixed_test[species][i], sample_rate)\n",
    "        for j in range(0,13):\n",
    "            data_point['spec_centr_'+str(j)] = spec_centroid[j]\n",
    "            for k in range(0,12):\n",
    "                data_point['chromogram_'+str(k)+\"_\"+str(j)] = chroma[k,j]\n",
    "        new_dataset_test = new_dataset_test.append(data_point,ignore_index=True)\n",
    "\n",
    "new_dataset_test.head()"
   ],
   "metadata": {
    "collapsed": false,
    "pycharm": {
     "name": "#%%\n"
    }
   }
  },
  {
   "cell_type": "code",
   "execution_count": 12,
   "outputs": [],
   "source": [
    "# Prepare dataset to fit a simple model\n",
    "features= list(new_dataset.columns)\n",
    "features.remove('species')\n",
    "features.remove('genus')\n",
    "\n",
    "X = new_dataset[features].values\n",
    "y = new_dataset['species'].values\n",
    "\n",
    "X_test = new_dataset_test[features].values\n",
    "y_test = new_dataset_test['species'].values"
   ],
   "metadata": {
    "collapsed": false,
    "pycharm": {
     "name": "#%%\n"
    }
   }
  },
  {
   "cell_type": "code",
   "execution_count": 13,
   "outputs": [
    {
     "name": "stdout",
     "output_type": "stream",
     "text": [
      "[0.8948863636363636, 0.9005681818181818, 0.9034090909090909, 0.8778409090909091, 0.9232954545454546]\n"
     ]
    }
   ],
   "source": [
    "# Use Naive Bayes as benchmark\n",
    "\n",
    "from sklearn import naive_bayes\n",
    "NB = naive_bayes.GaussianNB()\n",
    "\n",
    "SSS = sklearn.model_selection.StratifiedShuffleSplit(n_splits=5, test_size=0.2)\n",
    "accs = []\n",
    "\n",
    "for train_index, val_index in SSS.split(X, y):\n",
    "    X_train, X_val = X[train_index], X[val_index]\n",
    "    y_train, y_val = y[train_index], y[val_index]\n",
    "\n",
    "    NB.fit(X_train, y_train)\n",
    "\n",
    "    y_pred = NB.predict(X_val)\n",
    "\n",
    "    accs.append(sklearn.metrics.accuracy_score(y_pred=y_pred, y_true=y_val))\n",
    "\n",
    "print(accs)"
   ],
   "metadata": {
    "collapsed": false,
    "pycharm": {
     "name": "#%%\n"
    }
   }
  },
  {
   "cell_type": "code",
   "execution_count": 14,
   "outputs": [
    {
     "data": {
      "text/plain": "0.9302297606159028"
     },
     "execution_count": 14,
     "metadata": {},
     "output_type": "execute_result"
    }
   ],
   "source": [
    "y_pred = NB.predict(X_test)\n",
    "sklearn.metrics.accuracy_score(y_pred=y_pred, y_true=y_test)"
   ],
   "metadata": {
    "collapsed": false,
    "pycharm": {
     "name": "#%%\n"
    }
   }
  },
  {
   "cell_type": "code",
   "execution_count": null,
   "outputs": [],
   "source": [
    "from tensorflow.python.keras.preprocessing.image import ImageDataGenerator\n",
    "# Converting numpy arrays to tensors\n",
    "import tensorflow as tf\n",
    "import numpy as np\n",
    "\n",
    "# Preparing the dataset for CNN.\n",
    "new_dataset['labels'] = new_dataset['genus'].astype(str)\n",
    "\n",
    "\n",
    "datagen=ImageDataGenerator(rescale=1./255,validation_split=0.2) # Training and Validation split 70/30\n",
    "#test_datagen = ImageDataGenerator(rescale=1./255)\n",
    "\n",
    "\n",
    "train_generator =datagen.flow_from_dataframe(dataframe=new_dataset,directory='./small Xeno-Canto/songs/songs/',\n",
    "                                             x_col=\"file_id\",\n",
    "                                             y_col=\"genus\",\n",
    "                                             class_mode=\"categorical\",\n",
    "                                             target_size=(224,224), #target_size=(64,64)\n",
    "                                             #validation_split=0.2,\n",
    "                                             subset=\"training\",\n",
    "                                             seed=1337,batch_size=30,shuffle=True)\n",
    "\n",
    "print('Train generator created')\n",
    "val_generator =datagen.flow_from_dataframe(dataframe=new_dataset_test,directory='./small Xeno-Canto/songs/songs/',\n",
    "                                           x_col=\"file_id\",\n",
    "                                           y_col=\"genus\",\n",
    "                                           class_mode=\"categorical\",\n",
    "                                           target_size=(224,224), #target_size=(64,64)\n",
    "                                           #subset=\"validation\",\n",
    "                                           seed=42,batch_size=30,shuffle=True)\n",
    "\n",
    "\n",
    "print('Validation generator created')\n",
    "train_image_data, train_labels = train_generator.next()"
   ],
   "metadata": {
    "collapsed": false,
    "pycharm": {
     "name": "#%%\n",
     "is_executing": true
    }
   }
  }
 ],
 "metadata": {
  "kernelspec": {
   "display_name": "Python 3",
   "language": "python",
   "name": "python3"
  },
  "language_info": {
   "codemirror_mode": {
    "name": "ipython",
    "version": 2
   },
   "file_extension": ".py",
   "mimetype": "text/x-python",
   "name": "python",
   "nbconvert_exporter": "python",
   "pygments_lexer": "ipython2",
   "version": "2.7.6"
  }
 },
 "nbformat": 4,
 "nbformat_minor": 0
}