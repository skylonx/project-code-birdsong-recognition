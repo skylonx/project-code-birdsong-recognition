{
 "cells": [
  {
   "cell_type": "code",
   "execution_count": 1,
   "metadata": {
    "collapsed": true,
    "pycharm": {
     "name": "#%%\n"
    }
   },
   "outputs": [],
   "source": [
    "# testing.ipnyb  - Just to install packages for the new environment tf-flow\n",
    "# 15th August, Monday, @1.05am\n",
    "\n"
   ]
  },
  {
   "cell_type": "code",
   "execution_count": 3,
   "outputs": [
    {
     "name": "stdout",
     "output_type": "stream",
     "text": [
      "Collecting librosa\n",
      "  Downloading librosa-0.9.2-py3-none-any.whl (214 kB)\n",
      "     -------------------------------------- 214.3/214.3 kB 1.9 MB/s eta 0:00:00\n",
      "Requirement already satisfied: scikit-learn>=0.19.1 in c:\\users\\skylonmachine\\anaconda3\\envs\\tf-flow\\lib\\site-packages (from librosa) (1.1.1)\n",
      "Requirement already satisfied: decorator>=4.0.10 in c:\\users\\skylonmachine\\anaconda3\\envs\\tf-flow\\lib\\site-packages (from librosa) (5.1.1)\n",
      "Collecting audioread>=2.1.9\n",
      "  Downloading audioread-3.0.0.tar.gz (377 kB)\n",
      "     ------------------------------------ 377.0/377.0 kB 978.1 kB/s eta 0:00:00\n",
      "  Preparing metadata (setup.py): started\n",
      "  Preparing metadata (setup.py): finished with status 'done'\n",
      "Requirement already satisfied: joblib>=0.14 in c:\\users\\skylonmachine\\anaconda3\\envs\\tf-flow\\lib\\site-packages (from librosa) (1.1.0)\n",
      "Requirement already satisfied: packaging>=20.0 in c:\\users\\skylonmachine\\anaconda3\\envs\\tf-flow\\lib\\site-packages (from librosa) (21.3)\n",
      "Collecting pooch>=1.0\n",
      "  Using cached pooch-1.6.0-py3-none-any.whl (56 kB)\n",
      "Requirement already satisfied: scipy>=1.2.0 in c:\\users\\skylonmachine\\anaconda3\\envs\\tf-flow\\lib\\site-packages (from librosa) (1.7.3)\n",
      "Collecting numba>=0.45.1\n",
      "  Downloading numba-0.56.0-cp310-cp310-win_amd64.whl (2.5 MB)\n",
      "     ---------------------------------------- 2.5/2.5 MB 627.9 kB/s eta 0:00:00\n",
      "Collecting resampy>=0.2.2\n",
      "  Downloading resampy-0.4.0-py3-none-any.whl (3.1 MB)\n",
      "     ---------------------------------------- 3.1/3.1 MB 678.9 kB/s eta 0:00:00\n",
      "Requirement already satisfied: numpy>=1.17.0 in c:\\users\\skylonmachine\\anaconda3\\envs\\tf-flow\\lib\\site-packages (from librosa) (1.23.1)\n",
      "Collecting soundfile>=0.10.2\n",
      "  Using cached SoundFile-0.10.3.post1-py2.py3.cp26.cp27.cp32.cp33.cp34.cp35.cp36.pp27.pp32.pp33-none-win_amd64.whl (689 kB)\n",
      "Collecting numpy>=1.17.0\n",
      "  Downloading numpy-1.22.4-cp310-cp310-win_amd64.whl (14.7 MB)\n",
      "     -------------------------------------- 14.7/14.7 MB 621.2 kB/s eta 0:00:00\n",
      "Requirement already satisfied: setuptools in c:\\users\\skylonmachine\\anaconda3\\envs\\tf-flow\\lib\\site-packages (from numba>=0.45.1->librosa) (61.2.0)\n",
      "Collecting llvmlite<0.40,>=0.39.0dev0\n",
      "  Downloading llvmlite-0.39.0-cp310-cp310-win_amd64.whl (23.2 MB)\n",
      "     -------------------------------------- 23.2/23.2 MB 827.5 kB/s eta 0:00:00\n",
      "Requirement already satisfied: pyparsing!=3.0.5,>=2.0.2 in c:\\users\\skylonmachine\\anaconda3\\envs\\tf-flow\\lib\\site-packages (from packaging>=20.0->librosa) (3.0.4)\n",
      "Collecting appdirs>=1.3.0\n",
      "  Using cached appdirs-1.4.4-py2.py3-none-any.whl (9.6 kB)\n",
      "Requirement already satisfied: requests>=2.19.0 in c:\\users\\skylonmachine\\anaconda3\\envs\\tf-flow\\lib\\site-packages (from pooch>=1.0->librosa) (2.28.1)\n",
      "Requirement already satisfied: threadpoolctl>=2.0.0 in c:\\users\\skylonmachine\\anaconda3\\envs\\tf-flow\\lib\\site-packages (from scikit-learn>=0.19.1->librosa) (2.2.0)\n",
      "Requirement already satisfied: cffi>=1.0 in c:\\users\\skylonmachine\\anaconda3\\envs\\tf-flow\\lib\\site-packages (from soundfile>=0.10.2->librosa) (1.15.1)\n",
      "Requirement already satisfied: pycparser in c:\\users\\skylonmachine\\anaconda3\\envs\\tf-flow\\lib\\site-packages (from cffi>=1.0->soundfile>=0.10.2->librosa) (2.21)\n",
      "Requirement already satisfied: charset-normalizer<3,>=2 in c:\\users\\skylonmachine\\anaconda3\\envs\\tf-flow\\lib\\site-packages (from requests>=2.19.0->pooch>=1.0->librosa) (2.0.4)\n",
      "Requirement already satisfied: certifi>=2017.4.17 in c:\\users\\skylonmachine\\anaconda3\\envs\\tf-flow\\lib\\site-packages (from requests>=2.19.0->pooch>=1.0->librosa) (2022.6.15)\n",
      "Requirement already satisfied: idna<4,>=2.5 in c:\\users\\skylonmachine\\anaconda3\\envs\\tf-flow\\lib\\site-packages (from requests>=2.19.0->pooch>=1.0->librosa) (3.3)\n",
      "Requirement already satisfied: urllib3<1.27,>=1.21.1 in c:\\users\\skylonmachine\\anaconda3\\envs\\tf-flow\\lib\\site-packages (from requests>=2.19.0->pooch>=1.0->librosa) (1.26.11)\n",
      "Building wheels for collected packages: audioread\n",
      "  Building wheel for audioread (setup.py): started\n",
      "  Building wheel for audioread (setup.py): finished with status 'done'\n",
      "  Created wheel for audioread: filename=audioread-3.0.0-py3-none-any.whl size=23706 sha256=f3b2a82723b0c411aac733c85a50f47ec842f10ed0d2cdd63751299679711a72\n",
      "  Stored in directory: c:\\users\\skylonmachine\\appdata\\local\\pip\\cache\\wheels\\da\\4b\\39\\c5f6c4ee93b43281dda4dab5ac5f2bdf9d11074d427493cd55\n",
      "Successfully built audioread\n",
      "Installing collected packages: appdirs, numpy, llvmlite, audioread, soundfile, pooch, numba, resampy, librosa\n",
      "  Attempting uninstall: numpy\n",
      "    Found existing installation: numpy 1.23.1\n",
      "    Uninstalling numpy-1.23.1:\n",
      "      Successfully uninstalled numpy-1.23.1\n",
      "Hello! Goodbye Milkyway.......\n"
     ]
    },
    {
     "name": "stderr",
     "output_type": "stream",
     "text": [
      "ERROR: Could not install packages due to an OSError: [WinError 5] Access is denied: 'C:\\\\Users\\\\SkylonMachine\\\\Anaconda3\\\\envs\\\\tf-flow\\\\Lib\\\\site-packages\\\\~umpy\\\\core\\\\_multiarray_tests.cp310-win_amd64.pyd'\n",
      "Consider using the `--user` option or check the permissions.\n",
      "\n"
     ]
    }
   ],
   "source": [
    "import numpy\n",
    "!pip install librosa\n",
    "print(\"Hello! Goodbye Milkyway.......\")"
   ],
   "metadata": {
    "collapsed": false,
    "pycharm": {
     "name": "#%%\n"
    }
   }
  }
 ],
 "metadata": {
  "kernelspec": {
   "display_name": "Python 3",
   "language": "python",
   "name": "python3"
  },
  "language_info": {
   "codemirror_mode": {
    "name": "ipython",
    "version": 2
   },
   "file_extension": ".py",
   "mimetype": "text/x-python",
   "name": "python",
   "nbconvert_exporter": "python",
   "pygments_lexer": "ipython2",
   "version": "2.7.6"
  }
 },
 "nbformat": 4,
 "nbformat_minor": 0
}