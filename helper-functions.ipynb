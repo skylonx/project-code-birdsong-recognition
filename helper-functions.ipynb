{
 "cells": [
  {
   "cell_type": "code",
   "execution_count": null,
   "metadata": {
    "collapsed": true,
    "pycharm": {
     "name": "#%%\n"
    }
   },
   "outputs": [],
   "source": [
    "#******************************************************************************************************************************************************#\n",
    "import warnings\n",
    "\n",
    "\"\"\"\n",
    "    @author Shaela Khan, Created 1st April,2022,  Updated : 7th August, Sunday\n",
    "#  helper.ipynb  -> In Implementation phase\n",
    "#  Bird Recognition from birdsongs using Deep learning -> We are working on building a model using Deep learning techniques to identify fire and smoke from images.\n",
    "#  DataSource : - https://www.kaggle.com/datasets/rtatman/british-birdsong-dataset  (Aggregated from the original Xeno-Canto Dataset.)\n",
    "#  Provided dataset has a directory with - songs\n",
    "#                                       - .csv file with labels\n",
    "#                                       -\n",
    "#  Dataset contains Image files from which, we create a train and test dataset for training purposes.\n",
    "#  We then create a CNN model with possible usage of pre-trained models, that can identify the difference classes defined - this is a supervised learning\n",
    "#  problem.\n",
    "#  Input: birdsong_testdata.csv + test_imag_data - creator\n",
    "#  Output : The file should have\n",
    "#          : Classify image from testing provided.     ----------> THIS REFERS TO THE ORIGINAL NOTEBOOK THAT DOES THE JOB.\n",
    "#\n",
    "#  TO GET SOME AUDIO RECORDINGS TO CREATE INTO TESTING IMAGES FOR BIRD RECOGNITION FILES.\n",
    "#  Created test data folder -  Music by <a href=\"/users/nesrality-22721863/?tab=audio&amp;utm_source=link-attribution&amp;utm_medium=referral&amp;utm_campaign=audio&amp;utm_content=5974\">Nesrality</a> from <a href=\"https://pixabay.com/?utm_source=link-attribution&amp;utm_medium=referral&amp;utm_campaign=music&amp;utm_content=5974\">Pixabay</a>\n",
    "\n",
    "\"\"\"\n",
    "#*******************************************************************************************************************************************************#"
   ]
  },
  {
   "cell_type": "code",
   "execution_count": null,
   "outputs": [],
   "source": [
    "# Common libraries\n",
    "import os,sys,random,math\n",
    "from random import seed, random, randint\n",
    "from tqdm import tqdm\n",
    "import pathlib\n",
    "from pathlib import Path\n",
    "\n",
    "\n",
    "# File processing.\n",
    "import csv\n",
    "import pandas as pd\n",
    "\n",
    "# Plotting and visuals.\n",
    "import matplotlib.pyplot as plt, numpy as np, shutil, itertools, pickle, pandas as pd, seaborn as sn, math, time\n",
    "\n",
    "# Stats\n",
    "from scipy.spatial import distance\n",
    "from sklearn.metrics import confusion_matrix\n",
    "from sklearn.preprocessing import normalize\n",
    "from mpl_toolkits.mplot3d import Axes3D\n",
    "from scipy import spatial\n",
    "\n",
    "# Audio file processing\n",
    "import librosa\n",
    "import librosa.display\n",
    "import soundfile as sf\n",
    "\n",
    "# Image processing libraries\n",
    "from PIL import Image\n",
    "\n",
    "# EXTRA -\n",
    "%matplotlib inline\n",
    "\n",
    "# EXTRA EXTRA - because they don't work upstairs?\n",
    "import pydub\n",
    "from pydub import AudioSegment\n",
    "import IPython\n",
    "from IPython.display import Audio\n",
    "import warnings\n",
    "warnings.filterwarnings('ignore')\n",
    "\n",
    "# Start Code Here.\n",
    "print(\"Hello World ! \")\n",
    "\n",
    "\n",
    "\n",
    "print(\"End processing\")\n",
    "print(\"Helper function \")"
   ],
   "metadata": {
    "collapsed": false,
    "pycharm": {
     "name": "#%%\n"
    }
   }
  },
  {
   "cell_type": "code",
   "execution_count": null,
   "outputs": [],
   "source": [
    "# Experimentation with voice files.\n",
    "import os\n",
    "import pydub\n",
    "from pydub import AudioSegment\n",
    "# files\n",
    "src_folder = \"./dataset/rose breasted grosbeak/\"   # I think ultimately this was the fix. Because AudioSegment cannot handle relative paths?\n",
    "dst_folder = \"./dataset/rose breasted grosbeak/\" # So, save the relative path as name, then try.. etc. :D\n",
    "\n",
    "#get all music file\n",
    "files = os.listdir(src_folder)\n",
    "\n",
    "for name in files:\n",
    "\n",
    "    try:\n",
    "        # convert wav to mp3\n",
    "        sound = AudioSegment.from_mp3(\"{}/{}\".format(src_folder, name))\n",
    "        #name of the file\n",
    "        wav_name = name.replace(\".mp3\", \".wav\")\n",
    "        sound.export(\"{}/{}\".format(dst_folder, wav_name), format=\"wav\")\n",
    "    except Exception as e:\n",
    "        pass\n",
    "\n",
    "\n",
    "print(\"\\n SHOW ME THIS IS DONE.  \")"
   ],
   "metadata": {
    "collapsed": false,
    "pycharm": {
     "name": "#%%\n"
    }
   }
  },
  {
   "cell_type": "code",
   "execution_count": null,
   "outputs": [],
   "source": [
    "# # CONVERTING  AUDIO FILES INTO IMAGE FILES- FOR VOICES FOLDER(HUMAN VOICES) --> iMAGES ARE SPECTROGRAPHS OF THE AUDIO DATA.\n",
    "cmap = plt.get_cmap('inferno')\n",
    "plt.figure(figsize=(8,8))\n",
    "pathlib.Path('img_data-Voices/').mkdir(parents=True, exist_ok=True)\n",
    "\n",
    "for dirname, _, filenames in os.walk('./voices'):\n",
    "    for filename in filenames:\n",
    "        #print(filename)\n",
    "        songname = './voices/'+filename  # Because you need the whole path.\n",
    "        y, sr = librosa.load(songname, mono=True, duration=5)\n",
    "        plt.specgram(y, NFFT=2048, Fs=2, Fc=0, noverlap=128, cmap=cmap, sides='default', mode='default', scale='dB')\n",
    "        plt.axis('off')\n",
    "        base = os.path.splitext(filename)[0]\n",
    "        # os.rename(my_file, base + '.bin')\n",
    "        plt.savefig('img_data-Voices/'+base+'.png')\n",
    "        plt.show()\n",
    "        plt.clf()\n",
    "\n",
    "print(\"\\n Show This message when the Conversion to Spectrographs are complete.\")\n"
   ],
   "metadata": {
    "collapsed": false,
    "pycharm": {
     "name": "#%%\n"
    }
   }
  },
  {
   "cell_type": "code",
   "execution_count": null,
   "outputs": [],
   "source": [
    "import glob\n",
    "# Fix for the mismatched labels function testing phase -->\n",
    "train_df = pd.read_csv(\"./small Xeno-Canto/birdsong_metadata_modified.csv\")\n",
    "file_names = train_df.file_id.tolist()\n",
    "ff_name = list()\n",
    "\n",
    "print(\"something , something break\")\n",
    "for file_name in file_names:\n",
    "    xfile = 'xc'+str(file_name)+'.png'\n",
    "    #print(xfile)\n",
    "    #ff_name.append(xfile)\n",
    "   # print(ff_name)\n",
    "    shutil.move(\"img_data/\"+xfile, \"new folder/\"+xfile)"
   ],
   "metadata": {
    "collapsed": false,
    "pycharm": {
     "name": "#%%\n"
    }
   }
  },
  {
   "cell_type": "code",
   "execution_count": null,
   "outputs": [],
   "source": [
    "\n",
    "# Creating test folder from small Xeno-Canto/songs\n",
    "#import splitfolders\n",
    "\n",
    "#def split_data(input_dir, output_dir, x):\n",
    "#    splitfolders.ratio(input_dir, output = output_dir, seed = 1337, ratio = (x,1-x), group_prefix = None)\n",
    "\n",
    "#split_data('./img_data_/','./small Xeno-Canto/output',0.8)\n"
   ],
   "metadata": {
    "collapsed": false,
    "pycharm": {
     "name": "#%%\n"
    }
   }
  }
 ],
 "metadata": {
  "kernelspec": {
   "display_name": "Python 3",
   "language": "python",
   "name": "python3"
  },
  "language_info": {
   "codemirror_mode": {
    "name": "ipython",
    "version": 2
   },
   "file_extension": ".py",
   "mimetype": "text/x-python",
   "name": "python",
   "nbconvert_exporter": "python",
   "pygments_lexer": "ipython2",
   "version": "2.7.6"
  }
 },
 "nbformat": 4,
 "nbformat_minor": 0
}