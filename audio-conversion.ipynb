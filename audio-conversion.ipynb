{
 "cells": [
  {
   "cell_type": "code",
   "execution_count": null,
   "metadata": {
    "collapsed": true,
    "pycharm": {
     "name": "#%%\n"
    }
   },
   "outputs": [],
   "source": [
    "#******************************************************************************************************************************************************#\n",
    "\"\"\"\n",
    "    @author Shaela Khan, Created 1st April,2022, Last Updated : 11th Aug, Thursday\n",
    "#  ann.ipynb  -> In Implementation phase\n",
    "#  Bird Recognition from birdsongs using Deep learning -> We are working on building a model using Deep learning techniques to identify fire and smoke from images.\n",
    "#  DataSource : - https://www.kaggle.com/datasets/rtatman/british-birdsong-dataset  (Aggregated from the original Xeno-Canto Dataset.)\n",
    "#  Provided dataset has a directory with - songs\n",
    "#                                       - .csv file with labels\n",
    "#                                       -\n",
    "#  Dataset contains Image files from which, we create a train and test dataset for training purposes.\n",
    "#  We then create a CNN model with possible usage of pre-trained models, that can identify the difference classes defined - this is a supervised learning\n",
    "#  problem.\n",
    "\n",
    "#  Input:  songs --> audio files xx111.wav\n",
    "#  Output : The file should have\n",
    "#          : Spectrograph images converted from the audio files.\n",
    "\n",
    "\"\"\"\n",
    "#*******************************************************************************************************************************************************#"
   ]
  },
  {
   "cell_type": "code",
   "execution_count": null,
   "outputs": [],
   "source": [
    "# Common libraries\n",
    "import os,sys,random,math\n",
    "from random import seed, random, randint\n",
    "from tqdm import tqdm\n",
    "import pathlib\n",
    "from pathlib import Path\n",
    "\n",
    "# File processing.\n",
    "import csv\n",
    "import pandas as pd\n",
    "\n",
    "# Plotting and visuals.\n",
    "import matplotlib.pyplot as plt, numpy as np, shutil, itertools, pickle, pandas as pd, seaborn as sn, math, time\n",
    "\n",
    "# Stats\n",
    "from scipy.spatial import distance\n",
    "from sklearn.metrics import confusion_matrix\n",
    "from sklearn.preprocessing import normalize\n",
    "from mpl_toolkits.mplot3d import Axes3D\n",
    "from scipy import spatial\n",
    "\n",
    "# Audio file processing\n",
    "import librosa\n",
    "import librosa.display\n",
    "import soundfile as sf\n",
    "\n",
    "# Image processing libraries\n",
    "from PIL import Image\n",
    "\n",
    "# Creating Model and model Evaluation\n",
    "from sklearn.decomposition import PCA\n",
    "from sklearn.model_selection import train_test_split\n",
    "from sklearn.metrics import confusion_matrix\n",
    "\n",
    "# EXTRA -\n",
    "%matplotlib inline\n",
    "\n",
    "# ML, statistics\n",
    "import scipy\n",
    "from sklearn.model_selection import train_test_split\n",
    "from sklearn import metrics\n",
    "from sklearn.metrics import confusion_matrix, roc_curve, auc, roc_auc_score\n",
    "\n",
    "# Tensorflow\n",
    "#from sklearn.preprocessing import OneHotEncoder\n",
    "import tensorflow as tf\n",
    "from tensorflow import keras\n",
    "from keras import backend as K\n",
    "from keras.models import Model, load_model, Sequential\n",
    "from keras.callbacks import ModelCheckpoint\n",
    "from keras.preprocessing.image import ImageDataGenerator\n",
    "from keras.layers import Conv2D, MaxPooling2D\n",
    "from keras.layers import Dense, Dropout, Flatten, Activation\n",
    "from keras.models import Sequential\n",
    "from keras.callbacks import EarlyStopping, ReduceLROnPlateau, ModelCheckpoint\n",
    "from tensorflow.keras.optimizers import Adam\n",
    "\n",
    "from sklearn.model_selection import train_test_split\n",
    "from sklearn.preprocessing import LabelEncoder, StandardScaler\n",
    "from keras import layers\n",
    "from keras import layers\n",
    "import keras\n",
    "from keras.models import Sequential\n",
    "import warnings\n",
    "\n",
    "# EXTRA EXTRA - because they don't work upstairs?\n",
    "import pydub\n",
    "from pydub import AudioSegment\n",
    "import IPython\n",
    "from IPython.display import Audio\n",
    "import os\n",
    "from pydub import AudioSegment\n",
    "import subprocess\n",
    "warnings.filterwarnings('ignore')\n",
    "\n",
    "# Start Code Here.\n",
    "print(\"Hello World ! \")\n",
    "print(\"**********  Sweet Caroline da da da !!**********\")\n",
    "\n"
   ],
   "metadata": {
    "collapsed": false,
    "pycharm": {
     "name": "#%%\n"
    }
   }
  },
  {
   "cell_type": "code",
   "execution_count": null,
   "outputs": [],
   "source": [
    "# Stupid God forsaken bug!\n",
    "\n",
    "#path = \"the path to the audio files\"\n",
    "#Change working directory\n",
    "#os.chdir(path)\n",
    "#audio_files = os.listdir()\n",
    "\n",
    "# Don't need the number of files in the folder, just iterate over them directly using:\n",
    "##for dirname, _, filenames in os.walk('./small Xeno-Canto/test/'):\n",
    "    #spliting the file into the name and the extension\n",
    "#    for filename in filenames:\n",
    "#        name, ext = os.path.splitext(filename)\n",
    "#        songname = './small Xeno-Canto/test/'+filename\n",
    "#        if ext == \".mp3\":\n",
    "#            mp3_sound = AudioSegment.from_mp3(filename)\n",
    "#            #rename them using the old name + \".wav\"\n",
    "#            mp3_sound.export(\"{0}.wav\".format(name), format=\"wav\")\n",
    "import os\n",
    "import pydub\n",
    "from pydub import AudioSegment\n",
    "# files\n",
    "src_folder = \"./small Xeno-Canto/songs-test\"   # I think ultimately this was the fix. Because AudioSegment cannot handle relative paths?\n",
    "dst_folder = \"./small Xeno-Canto/songs-test-wav\" # So, save the relative path as name, then try.. etc. :D\n",
    "\n",
    "#get all music file\n",
    "files = os.listdir(src_folder)\n",
    "for name in files:\n",
    "    #name of the file\n",
    "    wav_name = name.replace(\".mp3\", \".wav\")\n",
    "    try:\n",
    "        # convert wav to mp3\n",
    "        sound = AudioSegment.from_mp3(\"{}/{}\".format(src_folder, name))\n",
    "        sound.export(\"{}/{}\".format(dst_folder, wav_name), format=\"wav\")\n",
    "    except Exception as e:\n",
    "        pass\n",
    "\n",
    "\n",
    "print(\"\\n Show me this is done.\")\n"
   ],
   "metadata": {
    "collapsed": false,
    "pycharm": {
     "name": "#%%\n"
    }
   }
  },
  {
   "cell_type": "code",
   "execution_count": null,
   "outputs": [],
   "source": [
    "# CONVERTING BIRD SONGS WHICH ARE AUDIO FILES INTO IMAGE FILES- FOR TEST DATA --> iMAGES ARE SPECTROGRAPHS OF THE AUDIO DATA.\n",
    "cmap = plt.get_cmap('inferno')\n",
    "plt.figure(figsize=(8,8))\n",
    "pathlib.Path('img_data-test/').mkdir(parents=True, exist_ok=True)\n",
    "\n",
    "for dirname, _, filenames in os.walk('./small Xeno-Canto/songs-test-wav/'):\n",
    "    for filename in filenames:\n",
    "        #print(filename)\n",
    "        songname = './small Xeno-Canto/songs-test-wav/'+filename  # Because you need the whole path.\n",
    "        y, sr = librosa.load(songname, mono=True, duration=5)\n",
    "        plt.specgram(y, NFFT=2048, Fs=2, Fc=0, noverlap=128, cmap=cmap, sides='default', mode='default', scale='dB')\n",
    "        plt.axis('off')\n",
    "        base = os.path.splitext(filename)[0]\n",
    "        # os.rename(my_file, base + '.bin')\n",
    "        plt.savefig('img_data-test/'+base+'.png')\n",
    "        plt.show()\n",
    "        plt.clf()\n",
    "\n",
    "print(\"\\n Show This message when the Conversion to Spectrographs are complete.\")\n"
   ],
   "metadata": {
    "collapsed": false,
    "pycharm": {
     "name": "#%%\n"
    }
   }
  },
  {
   "cell_type": "code",
   "execution_count": null,
   "outputs": [],
   "source": [
    "# Data preprocessing.****************************************************\n",
    "# Read metadata file\n",
    "metadata = pd.read_csv(\"./small Xeno-Canto/birdsong_metadata.csv\")\n",
    "header = list(metadata.head())\n",
    "\n",
    "\n",
    "# Get bird names\n",
    "bird_name = metadata['english_cname'].values\n",
    "u, f = np.unique(bird_name, return_counts=True)\n",
    "#print(\"Unique Bird Names  \\n\",u) # Dont touch this part - works\n",
    "\n",
    "# Take 5 unique bird names for this project\n",
    "uniq_birds = list(u[4:10]) + list(u[12:15])\n",
    "data_train = []\n",
    "data_test = []\n",
    "y_train = []\n",
    "y_test = []\n",
    "bird_name_dict = {}\n",
    "print(uniq_birds)\n",
    "\n",
    "\n",
    "# Get file_id corresponding to bird names\n",
    "for i in range(len(uniq_birds)) :\n",
    "    df = metadata[metadata['english_cname'] == uniq_birds[i]]\n",
    "    df = df['file_id'].values\n",
    "    df = df.tolist()\n",
    "    data_train.append(df[0])\n",
    "    y_train.append(i)\n",
    "    bird_name_dict[i] = uniq_birds[i]\n",
    "    data_test += df[1:]\n",
    "    y_test += [i] * (len(df) - 1)"
   ],
   "metadata": {
    "collapsed": false,
    "pycharm": {
     "name": "#%%\n",
     "is_executing": true
    }
   }
  },
  {
   "cell_type": "code",
   "execution_count": null,
   "outputs": [],
   "source": [
    "#print(os.listdir('./small Xeno-Canto/songs'))\n",
    "songs = []                               # This array has all the bird songs. Still in .flac format.\n",
    "directory = './small Xeno-Canto/songs/songs/'\n",
    "\n",
    "for dirname, _, filenames in os.walk('./small Xeno-Canto/songs/songs/'):\n",
    "    for filename in filenames:\n",
    "        #print(os.path.join(dirname, filename))\n",
    "        songs.append(filename)\n",
    "        #print(songs)\n",
    "\n",
    "\n",
    "#print(\"Songs :...............\")\n",
    "#print(songs.pop(2))\n",
    "\n",
    "print(\"data structure.\")\n",
    "print(metadata.head())\n",
    "print(metadata.info(verbose=True))\n",
    "\n"
   ],
   "metadata": {
    "collapsed": false,
    "pycharm": {
     "name": "#%%\n"
    }
   }
  },
  {
   "cell_type": "code",
   "execution_count": null,
   "outputs": [],
   "source": [
    "# CONVERTING BIRD SONGS WHICH ARE AUDIO FILES INTO IMAGE FILES --> iMAGES ARE SPECTROGRAPHS OF THE AUDIO DATA.\n",
    "cmap = plt.get_cmap('inferno')\n",
    "plt.figure(figsize=(8,8))\n",
    "pathlib.Path('img_data/').mkdir(parents=True, exist_ok=True)\n",
    "\n",
    "for dirname, _, filenames in os.walk('./small Xeno-Canto/songs/songs/'):\n",
    "    for filename in filenames:\n",
    "        #print(filename)\n",
    "        songname = './small Xeno-Canto/songs/songs/'+filename  # Because you need the whole path.\n",
    "        y, sr = librosa.load(songname, mono=True, duration=5)\n",
    "        plt.specgram(y, NFFT=2048, Fs=2, Fc=0, noverlap=128, cmap=cmap, sides='default', mode='default', scale='dB')\n",
    "        plt.axis('off')\n",
    "        base = os.path.splitext(filename)[0]\n",
    "        # os.rename(my_file, base + '.bin')\n",
    "        plt.savefig('img_data/'+base+'.png')\n",
    "        plt.show()\n",
    "        plt.clf()\n",
    "\n",
    "\n",
    "# We will listen to this file:\n",
    "#"
   ],
   "metadata": {
    "collapsed": false,
    "pycharm": {
     "name": "#%%\n"
    }
   }
  },
  {
   "cell_type": "code",
   "execution_count": null,
   "outputs": [],
   "source": [
    "# Trying to add labels now , from the csv files - pandas provides the df object.\n",
    "from keras_preprocessing.image import ImageDataGenerator\n",
    "tdf = pd.read_csv('./small Xeno-Canto/birdsong_metadata.csv')\n",
    "#print(tdf.head())\n",
    "#print(tdf.info(verbose=True))\n",
    "\n",
    "\n",
    "# Cleanup train_df\n",
    "tdf = tdf.drop(columns='who_provided_recording')\n",
    "tdf = tdf.drop(columns='country')\n",
    "tdf = tdf.drop(columns='latitude')\n",
    "tdf = tdf.drop(columns='longitute')\n",
    "tdf = tdf.drop(columns='license')\n",
    "# Find a better way to drop multiple columns drop dataframe columns.\n",
    "\n",
    "\n",
    "\n",
    "# For brevity and clarity in processing.\n",
    "tdf['file_id'] = tdf['file_id'].apply(str)\n",
    "# train_df = tdf  ----> According to proper processing procedures. The one at the bottom is a manual hack.\n",
    "\"\"\"train_df = pd.read_csv('./small Xeno-Canto/traincsv.csv')\n",
    "train_df.fillna(0, inplace=True)\n",
    "test_df = pd.read_csv(\"./small Xeno-Canto/testcsv.csv\")\n",
    "test_df.fillna(0, inplace=True)\n",
    "print(\"This one -------------------------------\")\n",
    "print(test_df.head())\n",
    "print(test_df.info(verbose=True))\n",
    "\"\"\"\n",
    "#  HERE IS WHERE WE LEFT OFF --> 3.34PM. April 24th.\n",
    "# Here is the fix --> 6th May , Friday.\n",
    "\n",
    "print(\"\\n  As far as I am concerned - This part is Complete.  \")"
   ],
   "metadata": {
    "collapsed": false,
    "pycharm": {
     "name": "#%%\n"
    }
   }
  },
  {
   "cell_type": "code",
   "execution_count": null,
   "outputs": [],
   "source": [
    "import tensorflow as tf\n",
    "print(\"\\n  \",tf.__version__)\n",
    "#import keras as K\n",
    "print(\"\\n \" )\n",
    "\n",
    "print(\"******************************  End of Processing. !!************************************************\")"
   ],
   "metadata": {
    "collapsed": false,
    "pycharm": {
     "name": "#%%\n"
    }
   }
  }
 ],
 "metadata": {
  "kernelspec": {
   "display_name": "Python 3",
   "language": "python",
   "name": "python3"
  },
  "language_info": {
   "codemirror_mode": {
    "name": "ipython",
    "version": 2
   },
   "file_extension": ".py",
   "mimetype": "text/x-python",
   "name": "python",
   "nbconvert_exporter": "python",
   "pygments_lexer": "ipython2",
   "version": "2.7.6"
  }
 },
 "nbformat": 4,
 "nbformat_minor": 0
}